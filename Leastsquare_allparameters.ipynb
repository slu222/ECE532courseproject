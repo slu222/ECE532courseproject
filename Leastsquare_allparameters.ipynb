{
 "cells": [
  {
   "cell_type": "code",
   "execution_count": 8,
   "metadata": {},
   "outputs": [],
   "source": [
    "import numpy as np\n",
    "from scipy.io import loadmat\n",
    "import matplotlib.pyplot as plt "
   ]
  },
  {
   "cell_type": "code",
   "execution_count": 32,
   "metadata": {},
   "outputs": [],
   "source": [
    "LS_data = loadmat('wholedata.mat')\n",
    "\n",
    "wholeset_X=LS_data['wholeset_X']\n",
    "wholeset_y=LS_data['wholeset_y']\n",
    "\n",
    "Set_1_X=np.array(wholeset_X[0:2574,:]);\n",
    "Set_2_X=np.array(wholeset_X[2574:2574*2,:]);\n",
    "Set_3_X=np.array(wholeset_X[2574*2:2574*3,:]);\n",
    "Set_4_X=np.array(wholeset_X[2574*3:2574*4,:]);\n",
    "\n",
    "Set_1_y=np.array(wholeset_y[0:2574,:]);\n",
    "Set_2_y=np.array(wholeset_y[2574:2574*2,:]);\n",
    "Set_3_y=np.array(wholeset_y[2574*2:2574*3,:]);\n",
    "Set_4_y=np.array(wholeset_y[2574*3:2574*4,:]);\n"
   ]
  },
  {
   "cell_type": "code",
   "execution_count": 51,
   "metadata": {},
   "outputs": [],
   "source": [
    "#Use 3/4 data as the train set\n",
    "Train_1_X=np.vstack((Set_2_X,Set_3_X,Set_4_X))\n",
    "Train_2_X=np.vstack((Set_1_X,Set_3_X,Set_4_X))\n",
    "Train_3_X=np.vstack((Set_1_X,Set_2_X,Set_4_X))\n",
    "Train_4_X=np.vstack((Set_1_X,Set_2_X,Set_3_X))\n",
    "\n",
    "Train_1_y=np.vstack((Set_2_y,Set_3_y,Set_4_y))\n",
    "Train_2_y=np.vstack((Set_1_y,Set_3_y,Set_4_y))\n",
    "Train_3_y=np.vstack((Set_1_y,Set_2_y,Set_4_y))\n",
    "Train_4_y=np.vstack((Set_1_y,Set_2_y,Set_3_y))"
   ]
  },
  {
   "cell_type": "code",
   "execution_count": 47,
   "metadata": {},
   "outputs": [],
   "source": [
    "#Use 1/4 data as the test set\n",
    "Test_1_X=np.array(Set_1_X)\n",
    "Test_2_X=np.array(Set_2_X)\n",
    "Test_3_X=np.array(Set_3_X)\n",
    "Test_4_X=np.array(Set_4_X)\n",
    "\n",
    "Test_1_y=np.array(Set_1_y)\n",
    "Test_2_y=np.array(Set_1_y)\n",
    "Test_3_y=np.array(Set_1_y)\n",
    "Test_4_y=np.array(Set_1_y)"
   ]
  },
  {
   "cell_type": "code",
   "execution_count": 54,
   "metadata": {},
   "outputs": [],
   "source": [
    "for i in range (7722):\n",
    "    if Train_1_y[i] <=3:\n",
    "        Train_1_y[i]=-1\n",
    "    else:\n",
    "        Train_1_y[i] =1\n",
    "    if Train_2_y[i] <=3:\n",
    "        Train_2_y[i] =-1\n",
    "    else:\n",
    "        Train_2_y[i] =1\n",
    "    if Train_3_y[i] <=3:\n",
    "        Train_3_y[i] =-1\n",
    "    else:\n",
    "        Train_3_y[i] =1\n",
    "    if Train_4_y[i] <=3:\n",
    "        Train_4_y[i] =-1\n",
    "    else:\n",
    "        Train_4_y[i] =1"
   ]
  },
  {
   "cell_type": "code",
   "execution_count": 80,
   "metadata": {},
   "outputs": [],
   "source": [
    "for i in range (2574):\n",
    "    if Test_1_y[i] <=3:\n",
    "        Test_1_y[i]=-1\n",
    "    else:\n",
    "        Test_1_y[i] =1\n",
    "    if Test_2_y[i] <=3:\n",
    "        Test_2_y[i] =-1\n",
    "    else:\n",
    "        Test_2_y[i] =1\n",
    "    if Test_3_y[i] <=3:\n",
    "        Test_3_y[i] =-1\n",
    "    else:\n",
    "        Test_3_y[i] =1\n",
    "    if Test_4_y[i] <=3:\n",
    "        Test_4_y[i] =-1\n",
    "    else:\n",
    "        Test_4_y[i] =1"
   ]
  },
  {
   "cell_type": "code",
   "execution_count": 86,
   "metadata": {},
   "outputs": [],
   "source": [
    "# w = (X^T X)^(-1)X^T y\n",
    "weights1= (Train_1_X.T@Train_1_X)**-1@Train_1_X.T@Train_1_y\n",
    "weights2= (Train_2_X.T@Train_2_X)**-1@Train_2_X.T@Train_2_y\n",
    "weights3= (Train_3_X.T@Train_3_X)**-1@Train_3_X.T@Train_3_y\n",
    "weights4= (Train_4_X.T@Train_4_X)**-1@Train_4_X.T@Train_4_y\n"
   ]
  },
  {
   "cell_type": "code",
   "execution_count": 87,
   "metadata": {},
   "outputs": [],
   "source": [
    "Errorrate_withoutSet1=(np.mean(np.sign(Test_1_X@weights1)!=Test_1_y))\n",
    "Errorrate_withoutSet2=(np.mean(np.sign(Test_2_X@weights2)!=Test_2_y))\n",
    "Errorrate_withoutSet3=(np.mean(np.sign(Test_3_X@weights3)!=Test_3_y))\n",
    "Errorrate_withoutSet4=(np.mean(np.sign(Test_4_X@weights4)!=Test_4_y))"
   ]
  },
  {
   "cell_type": "code",
   "execution_count": 88,
   "metadata": {},
   "outputs": [
    {
     "name": "stdout",
     "output_type": "stream",
     "text": [
      "0.4926184926184926\n",
      "0.5046620046620046\n",
      "0.6309246309246309\n",
      "0.4926184926184926\n"
     ]
    }
   ],
   "source": [
    "print(Errorrate_withoutSet1)\n",
    "print(Errorrate_withoutSet2)\n",
    "print(Errorrate_withoutSet3)\n",
    "print(Errorrate_withoutSet4)"
   ]
  },
  {
   "cell_type": "code",
   "execution_count": null,
   "metadata": {},
   "outputs": [],
   "source": []
  }
 ],
 "metadata": {
  "kernelspec": {
   "display_name": "Python 3",
   "language": "python",
   "name": "python3"
  },
  "language_info": {
   "codemirror_mode": {
    "name": "ipython",
    "version": 3
   },
   "file_extension": ".py",
   "mimetype": "text/x-python",
   "name": "python",
   "nbconvert_exporter": "python",
   "pygments_lexer": "ipython3",
   "version": "3.8.3"
  }
 },
 "nbformat": 4,
 "nbformat_minor": 4
}
