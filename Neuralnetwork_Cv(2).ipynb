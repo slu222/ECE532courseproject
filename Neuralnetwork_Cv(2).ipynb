{
 "cells": [
  {
   "cell_type": "code",
   "execution_count": 31,
   "metadata": {},
   "outputs": [],
   "source": [
    "import os\n",
    "import random\n",
    "import numpy as np\n",
    "import torch\n",
    "import torch.nn as nn\n",
    "from torch.utils import data\n",
    "import torch.nn.functional as F\n",
    "import torch.optim as optim\n",
    "\n",
    "import matplotlib.pyplot as plt"
   ]
  },
  {
   "cell_type": "code",
   "execution_count": 32,
   "metadata": {},
   "outputs": [],
   "source": [
    "TRAIN_DIR = 'UCI HAR Dataset/train'\n",
    "TEST_DIR = 'UCI HAR Dataset/test'\n",
    "\n",
    "def read_a_file(file):\n",
    "    \"\"\"\n",
    "    read_a_file: Read the data file, Each row is corresponding to one subject's motion. \n",
    "    file: the file path\n",
    "    \n",
    "    \"\"\"\n",
    "    f = open(file, 'r', encoding='utf-8')\n",
    "    data = []\n",
    "    for line in f:\n",
    "        line = line.strip().split()\n",
    "        x = [float(v) for v in line]\n",
    "        data.append(x)\n",
    "    f.close()\n",
    "    data = np.array(data)\n",
    "    return data"
   ]
  },
  {
   "cell_type": "code",
   "execution_count": 33,
   "metadata": {},
   "outputs": [],
   "source": [
    "def read_dataset(data_dir):\n",
    "    \"\"\"\n",
    "    read_dataset: Read X and y form 'UCI HAR Dataset/train' or 'UCI HAR Dataset/test' . The returned X and y are used\n",
    "    as training or testing data set.\n",
    "\n",
    "    data_dir: file address 'UCI HAR Dataset/train' or 'UCI HAR Dataset/test'\n",
    "     X (A n * f matrix,where n is the number of samples, f is the number of features),\n",
    "     y (A n*1 matrix where n is corresponding to the number of labels)\n",
    "    \"\"\"\n",
    "    kind = 'train' if 'train' in data_dir else 'test'\n",
    "\n",
    "    # X has 2 parts: for train, it comes form X_train.txt, and Inertial Signals\n",
    "    # Part 1. X_train.txt or X_test.txt\n",
    "    X1 = read_a_file(os.path.join(data_dir, 'X_{}.txt'.format(kind)))\n",
    "    print('The data shape of X_{}.txt is {} × {}'.format(kind, X1.shape[0], X1.shape[1]))\n",
    "\n",
    "    \n",
    "    # Part 2. Inertial Signals\n",
    "    # IS_dir = os.path.join(data_dir, 'Inertial Signals')\n",
    "    # X2 = []\n",
    "    # for file_name in os.listdir(IS_dir):\n",
    "    #     file_path = os.path.join(IS_dir, file_name)\n",
    "    #     tmp = read_a_file(file_path)\n",
    "    #     X2.append(tmp)\n",
    "    # X2 = np.concatenate(X2, axis=1)\n",
    "    # print('The data shape of Inertial Signals is {} × {}'.format(X2.shape[0], X2.shape[1]))\n",
    "\n",
    "    # X = np.concatenate([X1, X2], axis=1)\n",
    "    \n",
    "    X = X1\n",
    "  \n",
    "    # Read the y data\n",
    "    y = read_a_file(os.path.join(data_dir, 'y_{}.txt'.format(kind)))\n",
    "    y = np.array(y.reshape(-1)) - 1\n",
    "    return X, y"
   ]
  },
  {
   "cell_type": "code",
   "execution_count": 34,
   "metadata": {},
   "outputs": [],
   "source": [
    "class Net(nn.Module):\n",
    "    def __init__(self):\n",
    "        super(Net, self).__init__()\n",
    "        \n",
    "        self.fc1 = nn.Linear(561, 240)\n",
    "        self.fc2 = nn.Linear(240, 120)\n",
    "        self.fc3 = nn.Linear(120, 6)\n",
    "    \n",
    "    def forward(self, x):\n",
    "        x = x.view(-1, 561)\n",
    "        x = F.relu(self.fc1(x))\n",
    "        x = F.relu(self.fc2(x))\n",
    "        x = self.fc3(x)\n",
    "        return x"
   ]
  },
  {
   "cell_type": "code",
   "execution_count": 35,
   "metadata": {},
   "outputs": [
    {
     "name": "stdout",
     "output_type": "stream",
     "text": [
      "The data shape of X_train.txt is 7352 × 561\n",
      "\n"
     ]
    }
   ],
   "source": [
    "#data process\n",
    "#train data\n",
    "X_train, y_train = read_dataset(TRAIN_DIR)\n",
    "print()"
   ]
  },
  {
   "cell_type": "code",
   "execution_count": 36,
   "metadata": {
    "scrolled": true
   },
   "outputs": [
    {
     "name": "stdout",
     "output_type": "stream",
     "text": [
      "The data shape of X_train.txt is 7352 × 561\n",
      "\n",
      "epoch: 1: loss: 0.102\n",
      "epoch: 2: loss: 0.054\n",
      "epoch: 3: loss: 0.042\n",
      "epoch: 4: loss: 0.033\n",
      "epoch: 5: loss: 0.030\n",
      "epoch: 6: loss: 0.024\n",
      "epoch: 7: loss: 0.023\n",
      "epoch: 8: loss: 0.019\n",
      "epoch: 9: loss: 0.024\n",
      "epoch: 10: loss: 0.018\n"
     ]
    },
    {
     "data": {
      "image/png": "[encoded data removed]",
      "text/plain": [
       "<Figure size 432x288 with 1 Axes>"
      ]
     },
     "metadata": {
      "needs_background": "light"
     },
     "output_type": "display_data"
    },
    {
     "name": "stdout",
     "output_type": "stream",
     "text": [
      "epoch: 1: loss: 0.096\n",
      "epoch: 2: loss: 0.051\n",
      "epoch: 3: loss: 0.039\n",
      "epoch: 4: loss: 0.032\n",
      "epoch: 5: loss: 0.029\n",
      "epoch: 6: loss: 0.028\n",
      "epoch: 7: loss: 0.025\n",
      "epoch: 8: loss: 0.020\n",
      "epoch: 9: loss: 0.017\n",
      "epoch: 10: loss: 0.018\n"
     ]
    },
    {
     "data": {
      "text/plain": [
       "<Figure size 432x288 with 0 Axes>"
      ]
     },
     "metadata": {},
     "output_type": "display_data"
    },
    {
     "data": {
      "image/png": "[encoded data removed]",
      "text/plain": [
       "<Figure size 432x288 with 1 Axes>"
      ]
     },
     "metadata": {
      "needs_background": "light"
     },
     "output_type": "display_data"
    },
    {
     "name": "stdout",
     "output_type": "stream",
     "text": [
      "epoch: 1: loss: 0.092\n",
      "epoch: 2: loss: 0.050\n",
      "epoch: 3: loss: 0.041\n",
      "epoch: 4: loss: 0.032\n",
      "epoch: 5: loss: 0.029\n",
      "epoch: 6: loss: 0.027\n",
      "epoch: 7: loss: 0.024\n",
      "epoch: 8: loss: 0.021\n",
      "epoch: 9: loss: 0.018\n",
      "epoch: 10: loss: 0.019\n"
     ]
    },
    {
     "data": {
      "text/plain": [
       "<Figure size 432x288 with 0 Axes>"
      ]
     },
     "metadata": {},
     "output_type": "display_data"
    },
    {
     "data": {
      "image/png": "[encoded data removed]",
      "text/plain": [
       "<Figure size 432x288 with 1 Axes>"
      ]
     },
     "metadata": {
      "needs_background": "light"
     },
     "output_type": "display_data"
    },
    {
     "name": "stdout",
     "output_type": "stream",
     "text": [
      "epoch: 1: loss: 0.095\n",
      "epoch: 2: loss: 0.051\n",
      "epoch: 3: loss: 0.040\n",
      "epoch: 4: loss: 0.035\n",
      "epoch: 5: loss: 0.032\n",
      "epoch: 6: loss: 0.028\n",
      "epoch: 7: loss: 0.025\n",
      "epoch: 8: loss: 0.027\n",
      "epoch: 9: loss: 0.019\n",
      "epoch: 10: loss: 0.019\n"
     ]
    },
    {
     "data": {
      "text/plain": [
       "<Figure size 432x288 with 0 Axes>"
      ]
     },
     "metadata": {},
     "output_type": "display_data"
    },
    {
     "data": {
      "image/png": "[encoded data removed]",
      "text/plain": [
       "<Figure size 432x288 with 1 Axes>"
      ]
     },
     "metadata": {
      "needs_background": "light"
     },
     "output_type": "display_data"
    },
    {
     "data": {
      "text/plain": [
       "<Figure size 432x288 with 0 Axes>"
      ]
     },
     "metadata": {},
     "output_type": "display_data"
    }
   ],
   "source": [
    "#data process\n",
    "#train data\n",
    "X_train, y_train = read_dataset(TRAIN_DIR)\n",
    "print()\n",
    "#Reset the labels as 0 an 1\n",
    "for i in range(len(y_train)):\n",
    "    if y_train[i] <= 3:\n",
    "        y_train[i] = 0\n",
    "    else:\n",
    "        y_train[i] = 1\n",
    "\n",
    "#train the model with cross validation\n",
    "\n",
    "#choose Cross Entropy Loss as the loss function \n",
    "criterion = nn.CrossEntropyLoss()\n",
    "#choose Stochastic Gradient Descent to updated parameters.\n",
    "#set the learning rate to 0.001; set the momentum to 0.9 which may help jump out of local optimum\n",
    "\n",
    "\n",
    "\n",
    "best_acc = 0\n",
    "for k in range(4):\n",
    "    net = Net()#    \n",
    "    optimizer = optim.SGD(net.parameters(), lr=0.001, momentum=0.9) #lr is the learning rate\n",
    "    \n",
    "    loss_arr = np.zeros(10)\n",
    "    idx = np.zeros(7352, dtype=np.bool)\n",
    "    idx[1838*k:1838*(k+1)] = True\n",
    "    X_v = torch.tensor(X_train[idx], dtype=torch.float32)  #transfer numpy to tensor\n",
    "    y_v = torch.tensor(y_train[idx], dtype=torch.long)  \n",
    "    idx = (1 - idx).astype(bool)\n",
    "    X_t = torch.tensor(X_train[idx], dtype=torch.float32) \n",
    "    y_t = torch.tensor(y_train[idx], dtype=torch.long)  \n",
    "\n",
    "    train_loader = torch.utils.data.DataLoader(torch.utils.data.TensorDataset(X_t, y_t), batch_size=16, shuffle=True)\n",
    "    validate_loader = torch.utils.data.DataLoader(torch.utils.data.TensorDataset(X_v, y_v), batch_size=16, shuffle=True)\n",
    "    for epoch in range(10):\n",
    "        running_loss = 0.0\n",
    "        for i, data in enumerate(train_loader, 0):\n",
    "            inputs, labels = data\n",
    "            \n",
    "            optimizer.zero_grad()#initialize the gradient of each variable\n",
    "            outputs = net(inputs) #forward-propagating process\n",
    "            loss = criterion(outputs, labels) #compute the loss function\n",
    "            loss.backward()  #back-propagation\n",
    "            optimizer.step() #update the parameters\n",
    "            \n",
    "            running_loss += loss.item()\n",
    "        loss_arr[epoch] = running_loss / 1838\n",
    "        print('epoch: %d: loss: %.3f' %(epoch + 1, running_loss / 1838))\n",
    "        \n",
    " #log loss function for plotting   \n",
    "    plt.figure()\n",
    "    plt.plot(np.arange(1, len(loss_arr) + 1), loss_arr)\n",
    "    plt.xlabel(\"Epoch\")\n",
    "    plt.ylabel(\"Loss\")\n",
    "    plt.title(f\"Cross validation M{k+1}\")\n",
    "    plt.show()\n",
    "    plt.savefig(f'{k}.svg')\n",
    "        \n",
    "    correct = 0\n",
    "    for data in validate_loader:\n",
    "        inputs, labels = data\n",
    "        outputs = net(inputs)\n",
    "        _, predicted = torch.max(outputs.data, 1)\n",
    "        correct += (predicted == labels).sum().item()\n",
    "    if correct > best_acc:\n",
    "        best_acc = correct\n",
    "        best_param = net.state_dict()\n",
    "\n",
    "torch.save(best_param, 'model.pth')"
   ]
  },
  {
   "cell_type": "code",
   "execution_count": 37,
   "metadata": {
    "scrolled": false
   },
   "outputs": [
    {
     "name": "stdout",
     "output_type": "stream",
     "text": [
      "The data shape of X_test.txt is 2947 × 561\n",
      "\n",
      "Error rate of the network on the test set: 3.393281 %\n"
     ]
    }
   ],
   "source": [
    "#test data\n",
    "X_test, y_test = read_dataset(TEST_DIR)\n",
    "\n",
    "#Reset the labels as 0 an 1\n",
    "for i in range(len(y_test)):\n",
    "    if y_test[i] <= 3:\n",
    "        y_test[i] = 0\n",
    "    else:\n",
    "        y_test[i] = 1\n",
    "            \n",
    "X_test = torch.tensor(X_test, dtype=torch.float32)\n",
    "y_test = torch.tensor(y_test, dtype=torch.long)\n",
    "my_testdataset = torch.utils.data.TensorDataset(X_test,y_test)\n",
    "my_testdataloader = torch.utils.data.DataLoader(my_testdataset)\n",
    "print()\n",
    "\n",
    "#Test model performance with test data\n",
    "net = Net()\n",
    "net.load_state_dict(torch.load('model.pth'))\n",
    "correct = 0\n",
    "total = 0\n",
    "with torch.no_grad():\n",
    "    for data in my_testdataloader:\n",
    "        inputs, labels = data\n",
    "        outputs = net(inputs)\n",
    "        _, predicted = torch.max(outputs.data, 1)\n",
    "        total += labels.size(0)\n",
    "        correct += (predicted == labels).sum().item()\n",
    "\n",
    "print('Error rate of the network on the test set: %f %%' % (100-100 * correct / total))"
   ]
  },
  {
   "cell_type": "code",
   "execution_count": null,
   "metadata": {},
   "outputs": [],
   "source": []
  }
 ],
 "metadata": {
  "kernelspec": {
   "display_name": "Python 3",
   "language": "python",
   "name": "python3"
  },
  "language_info": {
   "codemirror_mode": {
    "name": "ipython",
    "version": 3
   },
   "file_extension": ".py",
   "mimetype": "text/x-python",
   "name": "python",
   "nbconvert_exporter": "python",
   "pygments_lexer": "ipython3",
   "version": "3.8.3"
  }
 },
 "nbformat": 4,
 "nbformat_minor": 4
}
